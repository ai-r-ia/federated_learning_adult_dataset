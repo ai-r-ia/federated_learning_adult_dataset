{
 "cells": [
  {
   "cell_type": "markdown",
   "id": "ed82ca39",
   "metadata": {},
   "source": [
    "Preprocssing the dataset and saving it into csv files"
   ]
  },
  {
   "cell_type": "code",
   "execution_count": 1,
   "id": "1c7a7502",
   "metadata": {
    "ExecuteTime": {
     "end_time": "2021-07-15T22:53:39.417538Z",
     "start_time": "2021-07-15T22:53:39.414163Z"
    }
   },
   "outputs": [],
   "source": [
    "\n",
    "from sklearn.preprocessing import OrdinalEncoder\n",
    "from sklearn.preprocessing import OneHotEncoder\n",
    "from sklearn.utils import shuffle\n",
    "from sklearn.preprocessing import StandardScaler\n",
    "# from torch.utils.data import Dataset\n",
    "from tensorflow.keras import optimizers\n",
    "\n",
    "import pandas as pd\n",
    "import numpy as np\n"
   ]
  },
  {
   "cell_type": "code",
   "execution_count": 2,
   "id": "0cb6b154",
   "metadata": {
    "ExecuteTime": {
     "end_time": "2021-07-15T22:53:39.732148Z",
     "start_time": "2021-07-15T22:53:39.632918Z"
    }
   },
   "outputs": [
    {
     "data": {
      "text/html": [
       "<div>\n",
       "<style scoped>\n",
       "    .dataframe tbody tr th:only-of-type {\n",
       "        vertical-align: middle;\n",
       "    }\n",
       "\n",
       "    .dataframe tbody tr th {\n",
       "        vertical-align: top;\n",
       "    }\n",
       "\n",
       "    .dataframe thead th {\n",
       "        text-align: right;\n",
       "    }\n",
       "</style>\n",
       "<table border=\"1\" class=\"dataframe\">\n",
       "  <thead>\n",
       "    <tr style=\"text-align: right;\">\n",
       "      <th></th>\n",
       "      <th>age</th>\n",
       "      <th>workclass</th>\n",
       "      <th>fnlwgt</th>\n",
       "      <th>education</th>\n",
       "      <th>educational-num</th>\n",
       "      <th>marital-status</th>\n",
       "      <th>occupation</th>\n",
       "      <th>relationship</th>\n",
       "      <th>race</th>\n",
       "      <th>gender</th>\n",
       "      <th>capital-gain</th>\n",
       "      <th>capital-loss</th>\n",
       "      <th>hours-per-week</th>\n",
       "      <th>native-country</th>\n",
       "      <th>income</th>\n",
       "    </tr>\n",
       "  </thead>\n",
       "  <tbody>\n",
       "    <tr>\n",
       "      <th>0</th>\n",
       "      <td>25</td>\n",
       "      <td>Private</td>\n",
       "      <td>226802</td>\n",
       "      <td>11th</td>\n",
       "      <td>7</td>\n",
       "      <td>Never-married</td>\n",
       "      <td>Machine-op-inspct</td>\n",
       "      <td>Own-child</td>\n",
       "      <td>Black</td>\n",
       "      <td>Male</td>\n",
       "      <td>0</td>\n",
       "      <td>0</td>\n",
       "      <td>40</td>\n",
       "      <td>United-States</td>\n",
       "      <td>&lt;=50K</td>\n",
       "    </tr>\n",
       "    <tr>\n",
       "      <th>1</th>\n",
       "      <td>38</td>\n",
       "      <td>Private</td>\n",
       "      <td>89814</td>\n",
       "      <td>HS-grad</td>\n",
       "      <td>9</td>\n",
       "      <td>Married-civ-spouse</td>\n",
       "      <td>Farming-fishing</td>\n",
       "      <td>Husband</td>\n",
       "      <td>White</td>\n",
       "      <td>Male</td>\n",
       "      <td>0</td>\n",
       "      <td>0</td>\n",
       "      <td>50</td>\n",
       "      <td>United-States</td>\n",
       "      <td>&lt;=50K</td>\n",
       "    </tr>\n",
       "    <tr>\n",
       "      <th>2</th>\n",
       "      <td>28</td>\n",
       "      <td>Local-gov</td>\n",
       "      <td>336951</td>\n",
       "      <td>Assoc-acdm</td>\n",
       "      <td>12</td>\n",
       "      <td>Married-civ-spouse</td>\n",
       "      <td>Protective-serv</td>\n",
       "      <td>Husband</td>\n",
       "      <td>White</td>\n",
       "      <td>Male</td>\n",
       "      <td>0</td>\n",
       "      <td>0</td>\n",
       "      <td>40</td>\n",
       "      <td>United-States</td>\n",
       "      <td>&gt;50K</td>\n",
       "    </tr>\n",
       "    <tr>\n",
       "      <th>3</th>\n",
       "      <td>44</td>\n",
       "      <td>Private</td>\n",
       "      <td>160323</td>\n",
       "      <td>Some-college</td>\n",
       "      <td>10</td>\n",
       "      <td>Married-civ-spouse</td>\n",
       "      <td>Machine-op-inspct</td>\n",
       "      <td>Husband</td>\n",
       "      <td>Black</td>\n",
       "      <td>Male</td>\n",
       "      <td>7688</td>\n",
       "      <td>0</td>\n",
       "      <td>40</td>\n",
       "      <td>United-States</td>\n",
       "      <td>&gt;50K</td>\n",
       "    </tr>\n",
       "    <tr>\n",
       "      <th>4</th>\n",
       "      <td>18</td>\n",
       "      <td>?</td>\n",
       "      <td>103497</td>\n",
       "      <td>Some-college</td>\n",
       "      <td>10</td>\n",
       "      <td>Never-married</td>\n",
       "      <td>?</td>\n",
       "      <td>Own-child</td>\n",
       "      <td>White</td>\n",
       "      <td>Female</td>\n",
       "      <td>0</td>\n",
       "      <td>0</td>\n",
       "      <td>30</td>\n",
       "      <td>United-States</td>\n",
       "      <td>&lt;=50K</td>\n",
       "    </tr>\n",
       "  </tbody>\n",
       "</table>\n",
       "</div>"
      ],
      "text/plain": [
       "   age  workclass  fnlwgt     education  educational-num      marital-status  \\\n",
       "0   25    Private  226802          11th                7       Never-married   \n",
       "1   38    Private   89814       HS-grad                9  Married-civ-spouse   \n",
       "2   28  Local-gov  336951    Assoc-acdm               12  Married-civ-spouse   \n",
       "3   44    Private  160323  Some-college               10  Married-civ-spouse   \n",
       "4   18          ?  103497  Some-college               10       Never-married   \n",
       "\n",
       "          occupation relationship   race  gender  capital-gain  capital-loss  \\\n",
       "0  Machine-op-inspct    Own-child  Black    Male             0             0   \n",
       "1    Farming-fishing      Husband  White    Male             0             0   \n",
       "2    Protective-serv      Husband  White    Male             0             0   \n",
       "3  Machine-op-inspct      Husband  Black    Male          7688             0   \n",
       "4                  ?    Own-child  White  Female             0             0   \n",
       "\n",
       "   hours-per-week native-country income  \n",
       "0              40  United-States  <=50K  \n",
       "1              50  United-States  <=50K  \n",
       "2              40  United-States   >50K  \n",
       "3              40  United-States   >50K  \n",
       "4              30  United-States  <=50K  "
      ]
     },
     "execution_count": 2,
     "metadata": {},
     "output_type": "execute_result"
    }
   ],
   "source": [
    "df = pd.read_csv('Data/adult.csv')\n",
    "df.head()"
   ]
  },
  {
   "cell_type": "code",
   "execution_count": 3,
   "id": "21e1dcf7",
   "metadata": {
    "ExecuteTime": {
     "end_time": "2021-07-15T22:53:39.844317Z",
     "start_time": "2021-07-15T22:53:39.838379Z"
    }
   },
   "outputs": [],
   "source": [
    "def get_categorical(df):\n",
    "\n",
    "    categorical = []\n",
    "    names = list(df.columns)\n",
    "    for name in names:\n",
    "        if df.dtypes[name] == 'object':\n",
    "            categorical.append(name)\n",
    "    return categorical\n",
    "\n",
    "\n",
    "def transform_nomm(df,nomm):\n",
    "    obj_df = df\n",
    "    oe_style = OneHotEncoder()\n",
    "    for col in nomm:\n",
    "        oe_results = oe_style.fit_transform(df[[col]])\n",
    "        obj_df = dff.join(pd.DataFrame(oe_results.toarray(), columns=oe_style.categories_))\n",
    "    return obj_df\n",
    "\n",
    "\n",
    "def get_numerical(df):\n",
    "\n",
    "    numerical = []\n",
    "    names = list(df.columns)\n",
    "    for name in names:\n",
    "        if df.dtypes[name] != 'object':\n",
    "            numerical.append(name)\n",
    "    return numerical\n",
    "\n",
    "\n",
    "def transform_ordd(dff,ordd):\n",
    "    \n",
    "    ord_enc = OrdinalEncoder()\n",
    "    for col in ordd:\n",
    "        dff[col] = ord_enc.fit_transform(dff[[col]])\n",
    "    return 0\n",
    "\n"
   ]
  },
  {
   "cell_type": "code",
   "execution_count": 4,
   "id": "dda402a5",
   "metadata": {
    "ExecuteTime": {
     "end_time": "2021-07-15T22:53:40.159048Z",
     "start_time": "2021-07-15T22:53:40.057758Z"
    }
   },
   "outputs": [
    {
     "data": {
      "text/html": [
       "<div>\n",
       "<style scoped>\n",
       "    .dataframe tbody tr th:only-of-type {\n",
       "        vertical-align: middle;\n",
       "    }\n",
       "\n",
       "    .dataframe tbody tr th {\n",
       "        vertical-align: top;\n",
       "    }\n",
       "\n",
       "    .dataframe thead th {\n",
       "        text-align: right;\n",
       "    }\n",
       "</style>\n",
       "<table border=\"1\" class=\"dataframe\">\n",
       "  <thead>\n",
       "    <tr style=\"text-align: right;\">\n",
       "      <th></th>\n",
       "      <th>age</th>\n",
       "      <th>fnlwgt</th>\n",
       "      <th>education</th>\n",
       "      <th>educational-num</th>\n",
       "      <th>capital-gain</th>\n",
       "      <th>capital-loss</th>\n",
       "      <th>hours-per-week</th>\n",
       "      <th>income</th>\n",
       "      <th>marital-status_Divorced</th>\n",
       "      <th>marital-status_Married-AF-spouse</th>\n",
       "      <th>...</th>\n",
       "      <th>native-country_Portugal</th>\n",
       "      <th>native-country_Puerto-Rico</th>\n",
       "      <th>native-country_Scotland</th>\n",
       "      <th>native-country_South</th>\n",
       "      <th>native-country_Taiwan</th>\n",
       "      <th>native-country_Thailand</th>\n",
       "      <th>native-country_Trinadad&amp;Tobago</th>\n",
       "      <th>native-country_United-States</th>\n",
       "      <th>native-country_Vietnam</th>\n",
       "      <th>native-country_Yugoslavia</th>\n",
       "    </tr>\n",
       "  </thead>\n",
       "  <tbody>\n",
       "    <tr>\n",
       "      <th>4300</th>\n",
       "      <td>49</td>\n",
       "      <td>371886</td>\n",
       "      <td>8.0</td>\n",
       "      <td>11</td>\n",
       "      <td>0</td>\n",
       "      <td>0</td>\n",
       "      <td>56</td>\n",
       "      <td>1</td>\n",
       "      <td>False</td>\n",
       "      <td>False</td>\n",
       "      <td>...</td>\n",
       "      <td>False</td>\n",
       "      <td>False</td>\n",
       "      <td>False</td>\n",
       "      <td>False</td>\n",
       "      <td>False</td>\n",
       "      <td>False</td>\n",
       "      <td>False</td>\n",
       "      <td>True</td>\n",
       "      <td>False</td>\n",
       "      <td>False</td>\n",
       "    </tr>\n",
       "    <tr>\n",
       "      <th>23232</th>\n",
       "      <td>26</td>\n",
       "      <td>134287</td>\n",
       "      <td>8.0</td>\n",
       "      <td>11</td>\n",
       "      <td>0</td>\n",
       "      <td>0</td>\n",
       "      <td>35</td>\n",
       "      <td>0</td>\n",
       "      <td>False</td>\n",
       "      <td>False</td>\n",
       "      <td>...</td>\n",
       "      <td>False</td>\n",
       "      <td>False</td>\n",
       "      <td>False</td>\n",
       "      <td>False</td>\n",
       "      <td>False</td>\n",
       "      <td>False</td>\n",
       "      <td>False</td>\n",
       "      <td>True</td>\n",
       "      <td>False</td>\n",
       "      <td>False</td>\n",
       "    </tr>\n",
       "    <tr>\n",
       "      <th>45393</th>\n",
       "      <td>33</td>\n",
       "      <td>194901</td>\n",
       "      <td>9.0</td>\n",
       "      <td>13</td>\n",
       "      <td>0</td>\n",
       "      <td>0</td>\n",
       "      <td>40</td>\n",
       "      <td>1</td>\n",
       "      <td>False</td>\n",
       "      <td>False</td>\n",
       "      <td>...</td>\n",
       "      <td>False</td>\n",
       "      <td>False</td>\n",
       "      <td>False</td>\n",
       "      <td>False</td>\n",
       "      <td>False</td>\n",
       "      <td>False</td>\n",
       "      <td>False</td>\n",
       "      <td>True</td>\n",
       "      <td>False</td>\n",
       "      <td>False</td>\n",
       "    </tr>\n",
       "    <tr>\n",
       "      <th>34407</th>\n",
       "      <td>51</td>\n",
       "      <td>111283</td>\n",
       "      <td>11.0</td>\n",
       "      <td>9</td>\n",
       "      <td>99999</td>\n",
       "      <td>0</td>\n",
       "      <td>35</td>\n",
       "      <td>1</td>\n",
       "      <td>True</td>\n",
       "      <td>False</td>\n",
       "      <td>...</td>\n",
       "      <td>False</td>\n",
       "      <td>False</td>\n",
       "      <td>False</td>\n",
       "      <td>False</td>\n",
       "      <td>False</td>\n",
       "      <td>False</td>\n",
       "      <td>False</td>\n",
       "      <td>True</td>\n",
       "      <td>False</td>\n",
       "      <td>False</td>\n",
       "    </tr>\n",
       "    <tr>\n",
       "      <th>24094</th>\n",
       "      <td>47</td>\n",
       "      <td>189123</td>\n",
       "      <td>1.0</td>\n",
       "      <td>7</td>\n",
       "      <td>0</td>\n",
       "      <td>1485</td>\n",
       "      <td>58</td>\n",
       "      <td>0</td>\n",
       "      <td>False</td>\n",
       "      <td>False</td>\n",
       "      <td>...</td>\n",
       "      <td>False</td>\n",
       "      <td>False</td>\n",
       "      <td>False</td>\n",
       "      <td>False</td>\n",
       "      <td>False</td>\n",
       "      <td>False</td>\n",
       "      <td>False</td>\n",
       "      <td>True</td>\n",
       "      <td>False</td>\n",
       "      <td>False</td>\n",
       "    </tr>\n",
       "  </tbody>\n",
       "</table>\n",
       "<p>5 rows × 94 columns</p>\n",
       "</div>"
      ],
      "text/plain": [
       "       age  fnlwgt  education  educational-num  capital-gain  capital-loss  \\\n",
       "4300    49  371886        8.0               11             0             0   \n",
       "23232   26  134287        8.0               11             0             0   \n",
       "45393   33  194901        9.0               13             0             0   \n",
       "34407   51  111283       11.0                9         99999             0   \n",
       "24094   47  189123        1.0                7             0          1485   \n",
       "\n",
       "       hours-per-week  income  marital-status_Divorced  \\\n",
       "4300               56       1                    False   \n",
       "23232              35       0                    False   \n",
       "45393              40       1                    False   \n",
       "34407              35       1                     True   \n",
       "24094              58       0                    False   \n",
       "\n",
       "       marital-status_Married-AF-spouse  ...  native-country_Portugal  \\\n",
       "4300                              False  ...                    False   \n",
       "23232                             False  ...                    False   \n",
       "45393                             False  ...                    False   \n",
       "34407                             False  ...                    False   \n",
       "24094                             False  ...                    False   \n",
       "\n",
       "       native-country_Puerto-Rico  native-country_Scotland  \\\n",
       "4300                        False                    False   \n",
       "23232                       False                    False   \n",
       "45393                       False                    False   \n",
       "34407                       False                    False   \n",
       "24094                       False                    False   \n",
       "\n",
       "       native-country_South  native-country_Taiwan  native-country_Thailand  \\\n",
       "4300                  False                  False                    False   \n",
       "23232                 False                  False                    False   \n",
       "45393                 False                  False                    False   \n",
       "34407                 False                  False                    False   \n",
       "24094                 False                  False                    False   \n",
       "\n",
       "       native-country_Trinadad&Tobago  native-country_United-States  \\\n",
       "4300                            False                          True   \n",
       "23232                           False                          True   \n",
       "45393                           False                          True   \n",
       "34407                           False                          True   \n",
       "24094                           False                          True   \n",
       "\n",
       "       native-country_Vietnam  native-country_Yugoslavia  \n",
       "4300                    False                      False  \n",
       "23232                   False                      False  \n",
       "45393                   False                      False  \n",
       "34407                   False                      False  \n",
       "24094                   False                      False  \n",
       "\n",
       "[5 rows x 94 columns]"
      ]
     },
     "execution_count": 4,
     "metadata": {},
     "output_type": "execute_result"
    }
   ],
   "source": [
    "nomm = ['marital-status','occupation','relationship','workclass','race','gender','native-country']\n",
    "ordd = ['education']\n",
    "\n",
    "dff = pd.get_dummies(df, columns=nomm)\n",
    "tt = transform_ordd(dff,ordd)\n",
    "cols = []\n",
    "for i in list(dff.columns):\n",
    "    if  i != 'income':\n",
    "        cols.append(i)\n",
    "\n",
    "dff = shuffle(dff)\n",
    "dff['income'] = dff['income'].map({'<=50K':0,'>50K':1}).astype(int)\n",
    "\n",
    "dff.head()"
   ]
  },
  {
   "cell_type": "code",
   "execution_count": 5,
   "id": "bc19e75e",
   "metadata": {
    "ExecuteTime": {
     "end_time": "2021-07-15T22:53:40.250417Z",
     "start_time": "2021-07-15T22:53:40.247154Z"
    }
   },
   "outputs": [
    {
     "name": "stdout",
     "output_type": "stream",
     "text": [
      "Shape of new dataframes - (9768, 94) , (39073, 94)\n"
     ]
    }
   ],
   "source": [
    "df_1 = dff.iloc[:int(len(dff)*0.2),:]\n",
    "df_2 = dff.iloc[int(len(dff)*0.2)+1:,:]\n",
    "print(\"Shape of new dataframes - {} , {}\".format(df_1.shape, df_2.shape))"
   ]
  },
  {
   "cell_type": "code",
   "execution_count": 6,
   "id": "b481c582",
   "metadata": {
    "ExecuteTime": {
     "end_time": "2021-07-15T22:56:36.771020Z",
     "start_time": "2021-07-15T22:56:35.923452Z"
    }
   },
   "outputs": [
    {
     "data": {
      "text/plain": [
       "(39073, 9768)"
      ]
     },
     "execution_count": 6,
     "metadata": {},
     "output_type": "execute_result"
    }
   ],
   "source": [
    "\n",
    "df_2.to_csv('Data/train.csv')\n",
    "df_1.to_csv('Data/test.csv')\n",
    "dff.to_csv('Data/adult_processed.csv')\n",
    "\n",
    "\n",
    "len(df_2), len(df_1)"
   ]
  },
  {
   "cell_type": "markdown",
   "id": "8b49c273",
   "metadata": {},
   "source": [
    "## Pysyft + Torch Federated Compatabile Data Preporeccsing\n"
   ]
  },
  {
   "cell_type": "code",
   "execution_count": 7,
   "id": "e0a8f5af",
   "metadata": {
    "ExecuteTime": {
     "end_time": "2021-07-15T22:53:41.360248Z",
     "start_time": "2021-07-15T22:53:41.358006Z"
    }
   },
   "outputs": [
    {
     "ename": "ModuleNotFoundError",
     "evalue": "No module named 'syft'",
     "output_type": "error",
     "traceback": [
      "\u001b[1;31m---------------------------------------------------------------------------\u001b[0m",
      "\u001b[1;31mModuleNotFoundError\u001b[0m                       Traceback (most recent call last)",
      "Cell \u001b[1;32mIn[7], line 1\u001b[0m\n\u001b[1;32m----> 1\u001b[0m \u001b[38;5;28;01mfrom\u001b[39;00m \u001b[38;5;21;01msyft\u001b[39;00m\u001b[38;5;21;01m.\u001b[39;00m\u001b[38;5;21;01mframeworks\u001b[39;00m\u001b[38;5;21;01m.\u001b[39;00m\u001b[38;5;21;01mtorch\u001b[39;00m\u001b[38;5;21;01m.\u001b[39;00m\u001b[38;5;21;01mfl\u001b[39;00m \u001b[38;5;28;01mimport\u001b[39;00m dataloader,FederatedDataLoader, FederatedDataset\n\u001b[0;32m      3\u001b[0m \u001b[38;5;28;01mimport\u001b[39;00m \u001b[38;5;21;01mtorch\u001b[39;00m\n\u001b[0;32m      4\u001b[0m \u001b[38;5;28;01mimport\u001b[39;00m \u001b[38;5;21;01msyft\u001b[39;00m \u001b[38;5;28;01mas\u001b[39;00m \u001b[38;5;21;01msy\u001b[39;00m\n",
      "\u001b[1;31mModuleNotFoundError\u001b[0m: No module named 'syft'"
     ]
    }
   ],
   "source": [
    "from syft.frameworks.torch.fl import dataloader,FederatedDataLoader, FederatedDataset\n",
    "\n",
    "import torch\n",
    "import syft as sy  "
   ]
  },
  {
   "cell_type": "code",
   "execution_count": null,
   "id": "271bfa83",
   "metadata": {
    "ExecuteTime": {
     "end_time": "2021-07-15T23:00:52.823608Z",
     "start_time": "2021-07-15T23:00:52.818314Z"
    }
   },
   "outputs": [],
   "source": [
    "class FeatureDataset(Dataset):\n",
    "    \n",
    "    def __init__(self,file_name):\n",
    "        \n",
    "        file_out = pd.read_csv(file_name)\n",
    "        cols = []\n",
    "        for i in list(file_out.columns):\n",
    "            if  i != 'income':\n",
    "                cols.append(i)\n",
    "        \n",
    "        x = file_out[cols].copy().values\n",
    "        y = file_out[['income']].copy().values\n",
    "        \n",
    "        sc = StandardScaler()\n",
    "        x_train = sc.fit_transform(x)\n",
    "        y_train = y\n",
    "        \n",
    "        self.X_train = torch.tensor(x_train, dtype= torch.float32)\n",
    "        self.Y_train = torch.tensor(y_train)\n",
    "        \n",
    "#         self.Y_train.type(torch.LongTensor)    \n",
    "\n",
    "    def __len__(self):\n",
    "        return len(self.Y_train)\n",
    "    \n",
    "    def __getitem__(self, idx):\n",
    "        return self.X_train[idx],self.Y_train[idx]\n",
    "    \n",
    "    "
   ]
  },
  {
   "cell_type": "code",
   "execution_count": null,
   "id": "1bcb9a54",
   "metadata": {
    "ExecuteTime": {
     "end_time": "2021-07-15T23:01:02.829519Z",
     "start_time": "2021-07-15T23:01:02.583069Z"
    }
   },
   "outputs": [
    {
     "data": {
      "text/plain": [
       "(39073, 9768)"
      ]
     },
     "execution_count": 40,
     "metadata": {},
     "output_type": "execute_result"
    }
   ],
   "source": [
    "feature_set1 = FeatureDataset('train.csv')\n",
    "feature_set2 = FeatureDataset('test.csv')\n",
    "\n",
    "len(feature_set1),len(feature_set2)"
   ]
  },
  {
   "cell_type": "code",
   "execution_count": null,
   "id": "8d1353eb",
   "metadata": {
    "ExecuteTime": {
     "end_time": "2021-07-15T22:53:41.773411Z",
     "start_time": "2021-07-15T22:53:41.769821Z"
    }
   },
   "outputs": [
    {
     "name": "stderr",
     "output_type": "stream",
     "text": [
      "WARNING:root:Torch was already hooked... skipping hooking process\n"
     ]
    }
   ],
   "source": [
    "hook = sy.TorchHook(torch)  # attach the pytorch hook\n",
    "joe = sy.VirtualWorker(hook, id=\"taj\")  #  remote worker joe\n",
    "jane = sy.VirtualWorker(hook, id=\"ammar\")  #  remote worker  jane\n"
   ]
  },
  {
   "cell_type": "code",
   "execution_count": null,
   "id": "a0553721",
   "metadata": {
    "ExecuteTime": {
     "end_time": "2021-07-15T23:02:06.323212Z",
     "start_time": "2021-07-15T23:02:05.819232Z"
    }
   },
   "outputs": [],
   "source": [
    "federated_train_loader = sy.FederatedDataLoader(feature_set1.federate((joe, jane)), batch_size=64, shuffle=True) # the federate() method splits the data within the workers\n",
    "test_loader = torch.utils.data.DataLoader(feature_set2, batch_size=64, shuffle=True)"
   ]
  },
  {
   "cell_type": "code",
   "execution_count": null,
   "id": "46a560e0",
   "metadata": {
    "ExecuteTime": {
     "end_time": "2021-07-15T23:05:45.121823Z",
     "start_time": "2021-07-15T23:05:45.118524Z"
    }
   },
   "outputs": [
    {
     "name": "stdout",
     "output_type": "stream",
     "text": [
      "Note that patch size is 64, so 611*64 = 39104 which is the training data size, same applies to test data.\n",
      "\n",
      "<syft.frameworks.torch.fl.dataloader.FederatedDataLoader object at 0x7fa465f40400>\n",
      " train patch size: 611\n",
      "\n",
      "<torch.utils.data.dataloader.DataLoader object at 0x7fa465f40390>\n",
      " test patch size: 153\n"
     ]
    }
   ],
   "source": [
    "print('Note that patch size is 64, so 611*64 = 39104 which is the training data size, same applies to test data.')\n",
    "\n",
    "print(f'\\n{federated_train_loader}\\n train patch size: {len(federated_train_loader)}\\n\\n{test_loader}\\n test patch size: {len(test_loader)}')\n"
   ]
  },
  {
   "cell_type": "code",
   "execution_count": null,
   "id": "172ba2b6",
   "metadata": {
    "ExecuteTime": {
     "end_time": "2021-07-15T23:39:41.589926Z",
     "start_time": "2021-07-15T23:39:41.583317Z"
    }
   },
   "outputs": [
    {
     "data": {
      "text/plain": [
       "['age',\n",
       " 'fnlwgt',\n",
       " 'education',\n",
       " 'educational-num',\n",
       " 'capital-gain',\n",
       " 'capital-loss',\n",
       " 'hours-per-week',\n",
       " 'marital-status_Divorced',\n",
       " 'marital-status_Married-AF-spouse',\n",
       " 'marital-status_Married-civ-spouse',\n",
       " 'marital-status_Married-spouse-absent',\n",
       " 'marital-status_Never-married',\n",
       " 'marital-status_Separated',\n",
       " 'marital-status_Widowed',\n",
       " 'occupation_?',\n",
       " 'occupation_Adm-clerical',\n",
       " 'occupation_Armed-Forces',\n",
       " 'occupation_Craft-repair',\n",
       " 'occupation_Exec-managerial',\n",
       " 'occupation_Farming-fishing',\n",
       " 'occupation_Handlers-cleaners',\n",
       " 'occupation_Machine-op-inspct',\n",
       " 'occupation_Other-service',\n",
       " 'occupation_Priv-house-serv',\n",
       " 'occupation_Prof-specialty',\n",
       " 'occupation_Protective-serv',\n",
       " 'occupation_Sales',\n",
       " 'occupation_Tech-support',\n",
       " 'occupation_Transport-moving',\n",
       " 'relationship_Husband',\n",
       " 'relationship_Not-in-family',\n",
       " 'relationship_Other-relative',\n",
       " 'relationship_Own-child',\n",
       " 'relationship_Unmarried',\n",
       " 'relationship_Wife',\n",
       " 'workclass_?',\n",
       " 'workclass_Federal-gov',\n",
       " 'workclass_Local-gov',\n",
       " 'workclass_Never-worked',\n",
       " 'workclass_Private',\n",
       " 'workclass_Self-emp-inc',\n",
       " 'workclass_Self-emp-not-inc',\n",
       " 'workclass_State-gov',\n",
       " 'workclass_Without-pay',\n",
       " 'race_Amer-Indian-Eskimo',\n",
       " 'race_Asian-Pac-Islander',\n",
       " 'race_Black',\n",
       " 'race_Other',\n",
       " 'race_White',\n",
       " 'gender_Female',\n",
       " 'gender_Male',\n",
       " 'native-country_?',\n",
       " 'native-country_Cambodia',\n",
       " 'native-country_Canada',\n",
       " 'native-country_China',\n",
       " 'native-country_Columbia',\n",
       " 'native-country_Cuba',\n",
       " 'native-country_Dominican-Republic',\n",
       " 'native-country_Ecuador',\n",
       " 'native-country_El-Salvador',\n",
       " 'native-country_England',\n",
       " 'native-country_France',\n",
       " 'native-country_Germany',\n",
       " 'native-country_Greece',\n",
       " 'native-country_Guatemala',\n",
       " 'native-country_Haiti',\n",
       " 'native-country_Holand-Netherlands',\n",
       " 'native-country_Honduras',\n",
       " 'native-country_Hong',\n",
       " 'native-country_Hungary',\n",
       " 'native-country_India',\n",
       " 'native-country_Iran',\n",
       " 'native-country_Ireland',\n",
       " 'native-country_Italy',\n",
       " 'native-country_Jamaica',\n",
       " 'native-country_Japan',\n",
       " 'native-country_Laos',\n",
       " 'native-country_Mexico',\n",
       " 'native-country_Nicaragua',\n",
       " 'native-country_Outlying-US(Guam-USVI-etc)',\n",
       " 'native-country_Peru',\n",
       " 'native-country_Philippines',\n",
       " 'native-country_Poland',\n",
       " 'native-country_Portugal',\n",
       " 'native-country_Puerto-Rico',\n",
       " 'native-country_Scotland',\n",
       " 'native-country_South',\n",
       " 'native-country_Taiwan',\n",
       " 'native-country_Thailand',\n",
       " 'native-country_Trinadad&Tobago',\n",
       " 'native-country_United-States',\n",
       " 'native-country_Vietnam',\n",
       " 'native-country_Yugoslavia']"
      ]
     },
     "execution_count": 54,
     "metadata": {},
     "output_type": "execute_result"
    }
   ],
   "source": [
    "cols"
   ]
  },
  {
   "cell_type": "code",
   "execution_count": null,
   "id": "6a118f97",
   "metadata": {},
   "outputs": [],
   "source": []
  },
  {
   "cell_type": "code",
   "execution_count": null,
   "id": "48919d5c",
   "metadata": {},
   "outputs": [],
   "source": []
  },
  {
   "cell_type": "code",
   "execution_count": null,
   "id": "f47a6f99",
   "metadata": {},
   "outputs": [],
   "source": []
  },
  {
   "cell_type": "code",
   "execution_count": null,
   "id": "8137e797",
   "metadata": {},
   "outputs": [],
   "source": []
  },
  {
   "cell_type": "code",
   "execution_count": null,
   "id": "6d695e25",
   "metadata": {},
   "outputs": [],
   "source": []
  },
  {
   "cell_type": "code",
   "execution_count": null,
   "id": "73c72237",
   "metadata": {},
   "outputs": [],
   "source": []
  },
  {
   "cell_type": "code",
   "execution_count": null,
   "id": "ca701ce9",
   "metadata": {},
   "outputs": [],
   "source": []
  },
  {
   "cell_type": "code",
   "execution_count": null,
   "id": "82c11786",
   "metadata": {},
   "outputs": [],
   "source": []
  },
  {
   "cell_type": "code",
   "execution_count": null,
   "id": "c29e6553",
   "metadata": {},
   "outputs": [],
   "source": []
  }
 ],
 "metadata": {
  "hide_input": false,
  "kernelspec": {
   "display_name": "Python 3 (ipykernel)",
   "language": "python",
   "name": "python3"
  },
  "language_info": {
   "codemirror_mode": {
    "name": "ipython",
    "version": 3
   },
   "file_extension": ".py",
   "mimetype": "text/x-python",
   "name": "python",
   "nbconvert_exporter": "python",
   "pygments_lexer": "ipython3",
   "version": "3.8.18"
  },
  "toc": {
   "base_numbering": 1,
   "nav_menu": {},
   "number_sections": true,
   "sideBar": true,
   "skip_h1_title": false,
   "title_cell": "Table of Contents",
   "title_sidebar": "Contents",
   "toc_cell": false,
   "toc_position": {},
   "toc_section_display": true,
   "toc_window_display": false
  }
 },
 "nbformat": 4,
 "nbformat_minor": 5
}
